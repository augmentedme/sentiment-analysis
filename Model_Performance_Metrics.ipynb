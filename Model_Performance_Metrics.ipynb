{
  "nbformat": 4,
  "nbformat_minor": 0,
  "metadata": {
    "colab": {
      "name": "Model Performance Metrics.ipynb",
      "provenance": [],
      "collapsed_sections": [],
      "authorship_tag": "ABX9TyMrwrGoHi4yq9KfuRKMq6Ic",
      "include_colab_link": true
    },
    "kernelspec": {
      "name": "python3",
      "display_name": "Python 3"
    }
  },
  "cells": [
    {
      "cell_type": "markdown",
      "metadata": {
        "id": "view-in-github",
        "colab_type": "text"
      },
      "source": [
        "<a href=\"https://colab.research.google.com/github/augmentedme/sentiment-analysis/blob/master/Model_Performance_Metrics.ipynb\" target=\"_parent\"><img src=\"https://colab.research.google.com/assets/colab-badge.svg\" alt=\"Open In Colab\"/></a>"
      ]
    },
    {
      "cell_type": "markdown",
      "metadata": {
        "id": "ta9s5-6sepjQ"
      },
      "source": [
        "# Model Performance Metrics"
      ]
    },
    {
      "cell_type": "markdown",
      "metadata": {
        "id": "BCb4Duypes62"
      },
      "source": [
        "### **Loading Libraries**"
      ]
    },
    {
      "cell_type": "code",
      "metadata": {
        "id": "Cxj7RJEbESk1"
      },
      "source": [
        "import numpy as np # linear algebra\n",
        "import pandas as pd # data processing, CSV file I/O (e.g. pd.read_csv)\n",
        "from google.colab import drive\n",
        "drive.mount(\"/content/drive\")"
      ],
      "execution_count": null,
      "outputs": []
    },
    {
      "cell_type": "code",
      "metadata": {
        "id": "UXn40NCTdGAr"
      },
      "source": [
        "import re\n",
        "import nltk\n",
        "import numpy as np # linear algebra\n",
        "import pandas as pd # data processing, CSV file I/O (e.g. pd.read_csv)\n",
        "\n",
        "import matplotlib.pyplot as plt\n",
        "%matplotlib inline\n",
        "\n",
        "from mlxtend.plotting import plot_confusion_matrix\n",
        "\n",
        "from nltk.corpus import stopwords\n",
        "\n",
        "from nltk.stem import WordNetLemmatizer\n",
        "\n",
        "from sklearn.model_selection import train_test_split\n",
        "\n",
        "from sklearn.svm import SVC\n",
        "from sklearn.tree import DecisionTreeClassifier\n",
        "from sklearn.ensemble import RandomForestClassifier, AdaBoostClassifier, GradientBoostingClassifier\n",
        "from sklearn.pipeline import Pipeline\n",
        "from sklearn.feature_extraction.text import TfidfVectorizer\n",
        "from sklearn.model_selection import cross_val_score, GridSearchCV\n",
        "\n",
        "from sklearn.metrics import classification_report,accuracy_score,precision_score,recall_score,roc_auc_score, confusion_matrix"
      ],
      "execution_count": null,
      "outputs": []
    },
    {
      "cell_type": "code",
      "metadata": {
        "id": "qmF8hd93dMIy",
        "outputId": "ab3211af-557a-40fa-d11f-53941b24328f",
        "colab": {
          "base_uri": "https://localhost:8080/",
          "height": 221
        }
      },
      "source": [
        "#Amazon Data\n",
        "input_file = '/content/drive/My Drive/Colab Notebooks/Final Project Hi-tech Park/Sentiment Analysis/sentiment sentences/amazon_cells_labelled.txt'\n",
        "amazon = pd.read_csv(input_file,delimiter='\\t',header=None, names=['review', 'sentiment'])\n",
        "amazon['source']='amazon'\n",
        "\n",
        "#Yelp Data\n",
        "input_file = '/content/drive/My Drive/Colab Notebooks/Final Project Hi-tech Park/Sentiment Analysis/sentiment sentences/yelp_labelled.txt'\n",
        "yelp = pd.read_csv(input_file,delimiter='\\t',header=None, names=['review', 'sentiment'])\n",
        "yelp['source']='yelp'\n",
        "\n",
        "#Imdb Data\n",
        "input_file = '/content/drive/My Drive/Colab Notebooks/Final Project Hi-tech Park/Sentiment Analysis/sentiment sentences/imdb_labelled.txt'\n",
        "imdb = pd.read_csv(input_file,delimiter='\\t',header=None, names=['review', 'sentiment'])\n",
        "imdb['source']='imdb'\n",
        "\n",
        "#combine all data sets\n",
        "data = pd.DataFrame()\n",
        "data = pd.concat([amazon, yelp, imdb])\n",
        "data['sentiment'] = data['sentiment'].astype(str)\n",
        "print(data.head(5))\n",
        "print(data.tail(5))"
      ],
      "execution_count": null,
      "outputs": [
        {
          "output_type": "stream",
          "text": [
            "                                              review sentiment  source\n",
            "0  So there is no way for me to plug it in here i...         0  amazon\n",
            "1                        Good case, Excellent value.         1  amazon\n",
            "2                             Great for the jawbone.         1  amazon\n",
            "3  Tied to charger for conversations lasting more...         0  amazon\n",
            "4                                  The mic is great.         1  amazon\n",
            "                                                review sentiment source\n",
            "743  I just got bored watching Jessice Lange take h...         0   imdb\n",
            "744  Unfortunately, any virtue in this film's produ...         0   imdb\n",
            "745                   In a word, it is embarrassing.           0   imdb\n",
            "746                               Exceptionally bad!           0   imdb\n",
            "747  All in all its an insult to one's intelligence...         0   imdb\n"
          ],
          "name": "stdout"
        }
      ]
    },
    {
      "cell_type": "markdown",
      "metadata": {
        "id": "h2rk8JgcfX0o"
      },
      "source": [
        "### *Data Processing*"
      ]
    },
    {
      "cell_type": "code",
      "metadata": {
        "id": "QUTfc2GpdT_x"
      },
      "source": [
        "# seperate required columns to clean text data\n",
        "\n",
        "review = data.iloc[:, 0].values\n",
        "senti = data.iloc[:, 1].values"
      ],
      "execution_count": null,
      "outputs": []
    },
    {
      "cell_type": "code",
      "metadata": {
        "id": "xW7ip7erdtjK"
      },
      "source": [
        "# Data preprocessing I\n",
        "\n",
        "processed_reviews = []\n",
        "\n",
        "for sentence in range(0, len(review)):\n",
        "    # Remove all the special characters and punc\n",
        "    processed_rev = re.sub(r'[^\\w\\s]', ' ', str(review[sentence]))\n",
        "\n",
        "    # remove all single characters\n",
        "    processed_rev= re.sub(r'\\s+[a-zA-Z]\\s+', ' ', processed_rev)\n",
        "\n",
        "    # Substituting multiple spaces with single space\n",
        "    processed_rev = re.sub(r'\\s+', ' ', processed_rev, flags=re.I)\n",
        "\n",
        "    # Removing numbers\n",
        "    processed_rev = re.sub(r'\\d+', ' ', processed_rev)\n",
        "\n",
        "    # Converting to Lowercase\n",
        "    processed_rev = processed_rev.lower()\n",
        "    \n",
        "    processed_reviews.append(processed_rev)"
      ],
      "execution_count": null,
      "outputs": []
    },
    {
      "cell_type": "code",
      "metadata": {
        "id": "OoBFc13Edw2b",
        "outputId": "68cae52e-5c11-4987-8660-3b337b06a8ba",
        "colab": {
          "base_uri": "https://localhost:8080/",
          "height": 204
        }
      },
      "source": [
        "# creating a dataframe from clean text and sentiment score\n",
        "\n",
        "data_clean = pd.DataFrame(processed_reviews)\n",
        "data_clean.columns = ['reviews']\n",
        "data_clean['senti_score'] = senti\n",
        "data_clean.head()"
      ],
      "execution_count": null,
      "outputs": [
        {
          "output_type": "execute_result",
          "data": {
            "text/html": [
              "<div>\n",
              "<style scoped>\n",
              "    .dataframe tbody tr th:only-of-type {\n",
              "        vertical-align: middle;\n",
              "    }\n",
              "\n",
              "    .dataframe tbody tr th {\n",
              "        vertical-align: top;\n",
              "    }\n",
              "\n",
              "    .dataframe thead th {\n",
              "        text-align: right;\n",
              "    }\n",
              "</style>\n",
              "<table border=\"1\" class=\"dataframe\">\n",
              "  <thead>\n",
              "    <tr style=\"text-align: right;\">\n",
              "      <th></th>\n",
              "      <th>reviews</th>\n",
              "      <th>senti_score</th>\n",
              "    </tr>\n",
              "  </thead>\n",
              "  <tbody>\n",
              "    <tr>\n",
              "      <th>0</th>\n",
              "      <td>so there is no way for me to plug it in here i...</td>\n",
              "      <td>0</td>\n",
              "    </tr>\n",
              "    <tr>\n",
              "      <th>1</th>\n",
              "      <td>good case excellent value</td>\n",
              "      <td>1</td>\n",
              "    </tr>\n",
              "    <tr>\n",
              "      <th>2</th>\n",
              "      <td>great for the jawbone</td>\n",
              "      <td>1</td>\n",
              "    </tr>\n",
              "    <tr>\n",
              "      <th>3</th>\n",
              "      <td>tied to charger for conversations lasting more...</td>\n",
              "      <td>0</td>\n",
              "    </tr>\n",
              "    <tr>\n",
              "      <th>4</th>\n",
              "      <td>the mic is great</td>\n",
              "      <td>1</td>\n",
              "    </tr>\n",
              "  </tbody>\n",
              "</table>\n",
              "</div>"
            ],
            "text/plain": [
              "                                             reviews senti_score\n",
              "0  so there is no way for me to plug it in here i...           0\n",
              "1                         good case excellent value            1\n",
              "2                             great for the jawbone            1\n",
              "3  tied to charger for conversations lasting more...           0\n",
              "4                                  the mic is great            1"
            ]
          },
          "metadata": {
            "tags": []
          },
          "execution_count": 9
        }
      ]
    },
    {
      "cell_type": "code",
      "metadata": {
        "id": "myFkIj-od5Zc"
      },
      "source": [
        "import nltk\n",
        "nltk.download('stopwords')\n",
        "nltk.download('wordnet')"
      ],
      "execution_count": null,
      "outputs": []
    },
    {
      "cell_type": "code",
      "metadata": {
        "id": "dcZqUemhdzfR"
      },
      "source": [
        "# Data preprocessing II\n",
        "\n",
        "#Removing stop words, stemming and Lammatization\n",
        "\n",
        "stopword = nltk.corpus.stopwords.words('english')\n",
        "\n",
        "def remove_stopwords(text):\n",
        "    text = [word for word in text if word not in stopword]\n",
        "    return text\n",
        "    \n",
        "data_clean = data_clean.apply(lambda x: remove_stopwords(x))\n",
        "\n",
        "ps = nltk.PorterStemmer()\n",
        "\n",
        "def stemming(text):\n",
        "    text = [ps.stem(word) for word in text]\n",
        "    return text\n",
        "\n",
        "data_clean = data_clean.apply(lambda x: stemming(x))\n",
        "\n",
        "wn = nltk.WordNetLemmatizer()\n",
        "\n",
        "def lemmatizer(text):\n",
        "    text = [wn.lemmatize(word) for word in text]\n",
        "    return text\n",
        "\n",
        "data_clean = data_clean.apply(lambda x: lemmatizer(x))"
      ],
      "execution_count": null,
      "outputs": []
    },
    {
      "cell_type": "code",
      "metadata": {
        "id": "upVnfwMCd3Gr"
      },
      "source": [
        "# Splitting data into train and test datasets\n",
        "\n",
        "X_train, X_test, y_train, y_test = train_test_split(data_clean['reviews'], data_clean['senti_score'], \n",
        "                                                    test_size=0.2, random_state=0)"
      ],
      "execution_count": null,
      "outputs": []
    },
    {
      "cell_type": "markdown",
      "metadata": {
        "id": "iKq4k_lmffde"
      },
      "source": [
        "### **Different Algorithm Comparison**"
      ]
    },
    {
      "cell_type": "code",
      "metadata": {
        "id": "e0s78KnVeHnJ",
        "outputId": "41d09db1-4c3b-49bd-9943-2703bbb3a6b0",
        "colab": {
          "base_uri": "https://localhost:8080/",
          "height": 173
        }
      },
      "source": [
        "# Building different base models with cross validation and observe their performance metrics\n",
        "\n",
        "ABC = Pipeline([\n",
        "        (\"tfidf_vectorizer\", TfidfVectorizer(stop_words=\"english\")),\n",
        "        (\"abc\", AdaBoostClassifier(random_state=0))\n",
        "    ])\n",
        "\n",
        "DTC = Pipeline([\n",
        "        (\"tfidf_vectorizer\", TfidfVectorizer(stop_words=\"english\")),\n",
        "        (\"dtc\", DecisionTreeClassifier(random_state=0))\n",
        "    ])\n",
        "\n",
        "GBC = Pipeline([\n",
        "        (\"tfidf_vectorizer\", TfidfVectorizer(stop_words=\"english\")),\n",
        "        (\"dtc\", GradientBoostingClassifier(random_state=0))\n",
        "    ])\n",
        "\n",
        "RFC = Pipeline([\n",
        "        (\"tfidf_vectorizer\", TfidfVectorizer(stop_words=\"english\")),\n",
        "        (\"rfc\", RandomForestClassifier(random_state=0))\n",
        "    ])\n",
        "\n",
        "all_models = [\n",
        "    (\"ABC\", ABC),\n",
        "    (\"DTC\", DTC),\n",
        "    (\"GBC\", GBC),\n",
        "    (\"RFC\", RFC),\n",
        "    ]\n",
        " \n",
        "unsorted_scores = [(name, cross_val_score(model, X_train, y_train, cv=3, scoring='roc_auc').mean()) for name, model in all_models]\n",
        "scores = pd.DataFrame(unsorted_scores, columns=['ML Model', 'roc_auc Score'])\n",
        "\n",
        "unsorted_scores = [(name, cross_val_score(model, X_train, y_train, cv=3, scoring='recall_macro').mean()) for name, model in all_models]\n",
        "scores_recall = pd.DataFrame(unsorted_scores, columns=['ML Model', 'recall Score'])\n",
        "scores['Recall Score'] = scores_recall['recall Score']\n",
        "\n",
        "unsorted_scores = [(name, cross_val_score(model, X_train, y_train, cv=3, scoring='precision_macro').mean()) for name, model in all_models]\n",
        "scores_pre = pd.DataFrame(unsorted_scores, columns=['ML Model', 'Pre Score'])\n",
        "scores['Precision Score'] = scores_pre['Pre Score']\n",
        "\n",
        "unsorted_scores = [(name, cross_val_score(model, X_train, y_train, cv=3).mean()) for name, model in all_models]\n",
        "scores_acc = pd.DataFrame(unsorted_scores, columns=['ML Model', 'Acc Score'])\n",
        "scores['Accuracy Score'] = scores_acc['Acc Score']\n",
        "\n",
        "scores.head()"
      ],
      "execution_count": null,
      "outputs": [
        {
          "output_type": "execute_result",
          "data": {
            "text/html": [
              "<div>\n",
              "<style scoped>\n",
              "    .dataframe tbody tr th:only-of-type {\n",
              "        vertical-align: middle;\n",
              "    }\n",
              "\n",
              "    .dataframe tbody tr th {\n",
              "        vertical-align: top;\n",
              "    }\n",
              "\n",
              "    .dataframe thead th {\n",
              "        text-align: right;\n",
              "    }\n",
              "</style>\n",
              "<table border=\"1\" class=\"dataframe\">\n",
              "  <thead>\n",
              "    <tr style=\"text-align: right;\">\n",
              "      <th></th>\n",
              "      <th>ML Model</th>\n",
              "      <th>roc_auc Score</th>\n",
              "      <th>Recall Score</th>\n",
              "      <th>Precision Score</th>\n",
              "      <th>Accuracy Score</th>\n",
              "    </tr>\n",
              "  </thead>\n",
              "  <tbody>\n",
              "    <tr>\n",
              "      <th>0</th>\n",
              "      <td>ABC</td>\n",
              "      <td>0.756885</td>\n",
              "      <td>0.706693</td>\n",
              "      <td>0.732357</td>\n",
              "      <td>0.705647</td>\n",
              "    </tr>\n",
              "    <tr>\n",
              "      <th>1</th>\n",
              "      <td>DTC</td>\n",
              "      <td>0.737948</td>\n",
              "      <td>0.707366</td>\n",
              "      <td>0.712289</td>\n",
              "      <td>0.707464</td>\n",
              "    </tr>\n",
              "    <tr>\n",
              "      <th>2</th>\n",
              "      <td>GBC</td>\n",
              "      <td>0.806131</td>\n",
              "      <td>0.737670</td>\n",
              "      <td>0.768381</td>\n",
              "      <td>0.736581</td>\n",
              "    </tr>\n",
              "    <tr>\n",
              "      <th>3</th>\n",
              "      <td>RFC</td>\n",
              "      <td>0.826691</td>\n",
              "      <td>0.738058</td>\n",
              "      <td>0.743805</td>\n",
              "      <td>0.737945</td>\n",
              "    </tr>\n",
              "  </tbody>\n",
              "</table>\n",
              "</div>"
            ],
            "text/plain": [
              "  ML Model  roc_auc Score  Recall Score  Precision Score  Accuracy Score\n",
              "0      ABC       0.756885      0.706693         0.732357        0.705647\n",
              "1      DTC       0.737948      0.707366         0.712289        0.707464\n",
              "2      GBC       0.806131      0.737670         0.768381        0.736581\n",
              "3      RFC       0.826691      0.738058         0.743805        0.737945"
            ]
          },
          "metadata": {
            "tags": []
          },
          "execution_count": 16
        }
      ]
    },
    {
      "cell_type": "code",
      "metadata": {
        "id": "i0BqJTlGeK7Z",
        "outputId": "e0f85e71-7b2f-4220-d7b0-95e001bcf3f1",
        "colab": {
          "base_uri": "https://localhost:8080/",
          "height": 459
        }
      },
      "source": [
        "# Feature Extraction\n",
        "vectorizer = TfidfVectorizer()\n",
        "X = vectorizer.fit_transform(X_train)\n",
        "\n",
        "# Hyperparameter tunning\n",
        "\n",
        "parameters = {\n",
        "    \"learning_rate\": [0.05, 0.075, 0.1, 0.15, 0.2],\n",
        "    \"max_depth\":[80,90,100],\n",
        "    \"max_features\":[\"log2\",\"sqrt\"],\n",
        "    \"n_estimators\":[200, 300, 250]\n",
        "    }\n",
        "\n",
        "grid = GridSearchCV(GradientBoostingClassifier(random_state=0), parameters, cv=3, n_jobs=-1, \n",
        "                    return_train_score=True, scoring = 'roc_auc')\n",
        "grid.fit(X,y_train)"
      ],
      "execution_count": null,
      "outputs": [
        {
          "output_type": "execute_result",
          "data": {
            "text/plain": [
              "GridSearchCV(cv=3, error_score=nan,\n",
              "             estimator=GradientBoostingClassifier(ccp_alpha=0.0,\n",
              "                                                  criterion='friedman_mse',\n",
              "                                                  init=None, learning_rate=0.1,\n",
              "                                                  loss='deviance', max_depth=3,\n",
              "                                                  max_features=None,\n",
              "                                                  max_leaf_nodes=None,\n",
              "                                                  min_impurity_decrease=0.0,\n",
              "                                                  min_impurity_split=None,\n",
              "                                                  min_samples_leaf=1,\n",
              "                                                  min_samples_split=2,\n",
              "                                                  min_weight_fraction_leaf=0.0,\n",
              "                                                  n_estimators=100,\n",
              "                                                  n_iter_no_c...\n",
              "                                                  presort='deprecated',\n",
              "                                                  random_state=0, subsample=1.0,\n",
              "                                                  tol=0.0001,\n",
              "                                                  validation_fraction=0.1,\n",
              "                                                  verbose=0, warm_start=False),\n",
              "             iid='deprecated', n_jobs=-1,\n",
              "             param_grid={'learning_rate': [0.05, 0.075, 0.1, 0.15, 0.2],\n",
              "                         'max_depth': [80, 90, 100],\n",
              "                         'max_features': ['log2', 'sqrt'],\n",
              "                         'n_estimators': [200, 300, 250]},\n",
              "             pre_dispatch='2*n_jobs', refit=True, return_train_score=True,\n",
              "             scoring='roc_auc', verbose=0)"
            ]
          },
          "metadata": {
            "tags": []
          },
          "execution_count": 17
        }
      ]
    },
    {
      "cell_type": "code",
      "metadata": {
        "id": "reWqmW0ZeZRp",
        "outputId": "65ee1f28-fd74-455d-e935-75683ee71442",
        "colab": {
          "base_uri": "https://localhost:8080/",
          "height": 483
        }
      },
      "source": [
        "# Training classifier model with best parameters\n",
        "clf = GradientBoostingClassifier(ccp_alpha=0.0, criterion='friedman_mse', init=None,\n",
        "                           learning_rate=0.05, loss='deviance', max_depth=100,\n",
        "                           max_features='log2', max_leaf_nodes=None,\n",
        "                           min_impurity_decrease=0.0, min_impurity_split=None,\n",
        "                           min_samples_leaf=1, min_samples_split=2,\n",
        "                           min_weight_fraction_leaf=0.0, n_estimators=300,\n",
        "                           n_iter_no_change=None, presort='deprecated',\n",
        "                           random_state=0, subsample=1.0, tol=0.0001,\n",
        "                           validation_fraction=0.1, verbose=0,\n",
        "                           warm_start=False)\n",
        "\n",
        "clf.fit(X,y_train)\n",
        "\n",
        "#Testing dataset\n",
        "pred = clf.predict(vectorizer.transform(X_test))\n",
        "cm_test = confusion_matrix(y_test,pred)\n",
        "fig, ax = plot_confusion_matrix(conf_mat=cm_test)\n",
        "plt.show()\n",
        "\n",
        "print(classification_report(y_test,pred))\n",
        "print('ACC - Test: ', round(accuracy_score(y_test, pred),2))\n",
        "\n",
        "sensitivity1 = round(cm_test[0,0]/(cm_test[0,0]+cm_test[0,1]), 2)\n",
        "print('Sensitivity - Test : ', sensitivity1 )\n",
        "\n",
        "specificity1 = round(cm_test[1,1]/(cm_test[1,0]+cm_test[1,1]), 2)\n",
        "print('Specificity - Test : ', specificity1)"
      ],
      "execution_count": null,
      "outputs": [
        {
          "output_type": "display_data",
          "data": {
            "image/png": "[encoded data removed]",
            "text/plain": [
              "<Figure size 432x288 with 1 Axes>"
            ]
          },
          "metadata": {
            "tags": [],
            "needs_background": "light"
          }
        },
        {
          "output_type": "stream",
          "text": [
            "              precision    recall  f1-score   support\n",
            "\n",
            "           0       0.85      0.82      0.83       270\n",
            "           1       0.83      0.86      0.85       280\n",
            "\n",
            "    accuracy                           0.84       550\n",
            "   macro avg       0.84      0.84      0.84       550\n",
            "weighted avg       0.84      0.84      0.84       550\n",
            "\n",
            "ACC - Test:  0.84\n",
            "Sensitivity - Test :  0.82\n",
            "Specificity - Test :  0.86\n"
          ],
          "name": "stdout"
        }
      ]
    },
    {
      "cell_type": "code",
      "metadata": {
        "id": "ftuPpmLEkNY4"
      },
      "source": [
        ""
      ],
      "execution_count": null,
      "outputs": []
    }
  ]
}